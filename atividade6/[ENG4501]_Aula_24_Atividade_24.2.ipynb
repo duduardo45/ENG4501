{
 "cells": [
  {
   "cell_type": "code",
   "execution_count": 2,
   "metadata": {},
   "outputs": [],
   "source": [
    "import math\n",
    "import scipy.stats as stats"
   ]
  },
  {
   "cell_type": "markdown",
   "metadata": {
    "id": "W6BKaWyt0aux"
   },
   "source": [
    "# **Atividade Testes de Hipóteses (2024.2)**\n",
    "\n",
    "***Para todas as questões defina as hipóteses, indique qual é a estatística de teste que está sendo usada. Indique, através de intervalos, a Região crítica. Calcule o p-valor e lembre sempre de fazer a sua conclusão a respeito do problema.***\n"
   ]
  },
  {
   "cell_type": "markdown",
   "metadata": {
    "id": "mjJaZIn20KVR"
   },
   "source": [
    "## *Questão 1*\n",
    "(1.0 pts) Uma propaganda afirma que o consumo médio de gasolina de determinada marca de automóvel é de 15 litros por 100 quilômetros rodados. Um teste com 40 automóveis desta marca acusa um consumo médio de 15,6 litros por 100 quilômetros rodados com desvio padrão de 1 litro por 100 quilômetros rodados. O que se pode concluir sobre a propaganda? Use o nível de significância de 10%\n"
   ]
  },
  {
   "cell_type": "markdown",
   "metadata": {},
   "source": [
    "$H_0$: $\\mu = 15\\\\$\n",
    "$H_a$: $\\mu \\neq 15\\\\$\n",
    "\n",
    "$n = 40\\\\$\n",
    "$\\bar{X} = 15,6\\\\$\n",
    "$s = 1\\\\$\n",
    "$\\alpha = 0.1\\\\$\n",
    "\n",
    "Estatística de teste: $Z_0 \\sim N\\bigg(\\mu_0, \\dfrac{\\sigma^2}{n}\\bigg)\\\\$\n",
    "\n",
    "$Z_0 = \\dfrac{\\bar{X} - \\mu_0}{\\sqrt{\\dfrac{s^2}{n}}} = 0,6 \\cdot \\sqrt{40} = 3,7947$"
   ]
  },
  {
   "cell_type": "code",
   "execution_count": 3,
   "metadata": {},
   "outputs": [
    {
     "data": {
      "text/plain": [
       "np.float64(1.6448536269514722)"
      ]
     },
     "execution_count": 3,
     "metadata": {},
     "output_type": "execute_result"
    }
   ],
   "source": [
    "stats.norm.ppf(0.95)"
   ]
  },
  {
   "cell_type": "markdown",
   "metadata": {},
   "source": [
    "$Z_{1 - \\frac{\\alpha}{2}} = 1.6448$\n",
    "\n",
    "Como $Z_0 > Z_{1 - \\frac{\\alpha}{2}}$, rejeitamos a hipótese nula com nível de significância de 10%. Isso indica que há uma alta probabilidade da propaganda ser enganosa."
   ]
  },
  {
   "cell_type": "markdown",
   "metadata": {},
   "source": [
    "Região crítica $= (1.6448, +\\infty)$"
   ]
  },
  {
   "cell_type": "code",
   "execution_count": 4,
   "metadata": {},
   "outputs": [
    {
     "data": {
      "text/plain": [
       "np.float64(0.00014770297615829264)"
      ]
     },
     "execution_count": 4,
     "metadata": {},
     "output_type": "execute_result"
    }
   ],
   "source": [
    "p_value = 2 * (1 - stats.norm.cdf(3.7949))\n",
    "p_value"
   ]
  },
  {
   "cell_type": "markdown",
   "metadata": {},
   "source": [
    "O p-value encontrado é muito próximo de 0, ou seja, a probabilidade de estarmos enganados ao rejeitar a hipótese nula é ínfima, ou seja, podemos afirmar que a propaganda é enganosa com um altíssimo nível de certeza."
   ]
  },
  {
   "cell_type": "markdown",
   "metadata": {
    "id": "vffbJ4H21LhJ"
   },
   "source": [
    "## *Questão 2*\n",
    "\n",
    "(1.0 pts) Depois de desenvolver um algoritmo para acelerar a execução de determinada tarefa rotineira em um escritório de contabilidade, o analista de sistema analisa uma amostra de 25 tempos, obtendo uma média 56,5 segundos e desvio padrão de 6 segundos. Dos dados passados, ele sabe que o tempo de execução é aproximadamente normal com média de 58,5 segundos. Use o nível de significância de 5% para decidir se o algoritmo do analista realmente melhorou o desempenho do sistema.\n"
   ]
  },
  {
   "cell_type": "markdown",
   "metadata": {},
   "source": [
    "$$H_0: μ \\geq 58,5$$\n",
    "$$H_a: μ < 58,5$$\n",
    "\n",
    "A estatística de teste é:\n",
    "\n",
    "$$T_0 = \\frac{\\bar{X} - \\mu}{s/\\sqrt{n}}$$"
   ]
  },
  {
   "cell_type": "code",
   "execution_count": 5,
   "metadata": {},
   "outputs": [
    {
     "name": "stdout",
     "output_type": "stream",
     "text": [
      "-1.7108820799094282\n"
     ]
    }
   ],
   "source": [
    "n = 25  # sample size\n",
    "sample_mean = 56.5  # sample mean\n",
    "sample_std = 6  # sample standard deviation\n",
    "population_mean = 58.5  # hypothesized population mean under H0\n",
    "alpha = 0.05  # significance level\n",
    "\n",
    "t_statistic = (sample_mean - population_mean) / (sample_std / math.sqrt(n))\n",
    "\n",
    "critical_t = stats.t.ppf(alpha, df=n-1)\n",
    "\n",
    "print(critical_t)\n"
   ]
  },
  {
   "cell_type": "markdown",
   "metadata": {},
   "source": [
    "O intervalo da região crítica é:\n",
    "\n",
    "$$(-\\infty, -1.7108820799094282]$$\n"
   ]
  },
  {
   "cell_type": "code",
   "execution_count": 6,
   "metadata": {},
   "outputs": [
    {
     "name": "stdout",
     "output_type": "stream",
     "text": [
      "-1.6666666666666667 < -1.7108820799094282? False\n",
      "p-valor = 0.05429006151236145\n"
     ]
    }
   ],
   "source": [
    "p_value = stats.t.cdf(t_statistic, df=n-1)\n",
    "\n",
    "print(f\"{t_statistic} < {critical_t}? {t_statistic < critical_t}\")\n",
    "print(f\"p-valor = {p_value}\")"
   ]
  },
  {
   "cell_type": "markdown",
   "metadata": {},
   "source": [
    "Como não é verdade que t_statistic < critical_t, não conseguimos rejeitar H_0. Portanto, não temos evidências para afirmar que o algoritmo do analista realmente melhorou o desempenho do sistema."
   ]
  },
  {
   "cell_type": "markdown",
   "metadata": {
    "id": "yGkscXpr1ZLc"
   },
   "source": [
    "## *Questão 3*\n",
    "\n",
    "(1.0 pts) Dados históricos indicam que a variância na taxa de câmbio do iene japonês contra o dólar americano é aproximadamente 1,52. Obteve-se uma amostra aleatória de 30 taxas de câmbio de fechamento, que acusou uma variância $s^2 = 2,1$. Realize um teste de hipótese para verificar se houve mudança na variância na taxa de câmbio."
   ]
  },
  {
   "cell_type": "markdown",
   "metadata": {},
   "source": [
    "#### Pressupostos:\n",
    "Hipótese nula: A variância da taxa de câmbio não mudou, ou seja, a variância histórica é igual à variância da amostra.\n",
    "\n",
    "$H_0: \\sigma^2 = 1,52$\n",
    "\n",
    "Hipótese alternativa: A variância da taxa de câmbio não mudou, ou seja, a variância histórica é igual à variância da amostra.\n",
    "\n",
    "$H_a: \\sigma^2 \\neq 1,52$\n",
    "\n",
    "A estatística de teste a ser usada é a   que será aproximada por uma $\\chi^2_{29}$ com $30-1 = 29$ graus de liberdade para a variância amostral por ser uma amostra pequena com $n < 30$. A fórmula será então:\n",
    "\n",
    "$\\chi^2 = \\frac{(30-1) s^2}{\\sigma^2_0}$\n",
    "\n",
    "O nível de significância tomado é de 5%. Ou seja $\\alpha = 0,05$\n",
    "\n",
    "A partir disto, a região crítica é:\n",
    "$$\n",
    "]-\\infty, \\chi^2_{29;\\frac{0,05}{2}}[  \\,\\,\\, \\cup \\,\\,\\,  ]\\chi^2_{29;1-\\frac{0,05}{2}}, \\infty[\n",
    "$$\n",
    "\n",
    "A partir da tabela temos que $\\chi^2_{29;0,025} = 16,047$ e $\\chi^2_{29;0,975} = 45,722$ ou seja rejeitamos a hipótese nula se a hipótese de teste cair no intervalo $]-\\infty; 16,047[\\,\\,\\, \\cup \\,\\,\\,]45,722; \\infty[$\n",
    "\n",
    "A estatística de teste neste caso assumo o valor de: $40,065$ (conforme calculado abaixo em código)\n",
    "\n",
    "Então, o p-valor pode-se olhar na tabela que seria $2*(1-0,9) = 0,2$\n",
    "\n",
    "A conclusão então é que a hipótese nula não é rejeitada. Isto significa que a variância na taxa de câmbio do iene japonês contra o dólar se manteve em comparação aos dados históricos."
   ]
  },
  {
   "cell_type": "code",
   "execution_count": 7,
   "metadata": {},
   "outputs": [
    {
     "name": "stdout",
     "output_type": "stream",
     "text": [
      "40.06578947368421\n"
     ]
    }
   ],
   "source": [
    "estatistica_de_teste = 29*2.1/1.52\n",
    "print(estatistica_de_teste)"
   ]
  },
  {
   "cell_type": "markdown",
   "metadata": {
    "id": "Zb9c3WV_2ifm"
   },
   "source": [
    "## *Questão 4*\n",
    "(1.0 pts) Um fabricante garante que pelo menos 90% das peças que fornece à linha de produção de uma determinada fábrica estão de acordo com as especificações exigidas.\n",
    "A análise de uma amostra de 320 peças mostrou que 50 peças não estão de acordo com as especificações exigidas. A um nível significância de 2% e 10%, podemos dizer que é verdadeira a afirmação do fabricante?\n"
   ]
  },
  {
   "cell_type": "markdown",
   "metadata": {},
   "source": [
    "$$H_0: p \\geq 0.9$$\n",
    "$$H_a: p < 0.9$$\n",
    "\n",
    "A estatística de teste é:\n",
    "\n",
    "$$Z_0 = \\frac{p - p_0}{\\sqrt{(p_0 * (1 - p_0)) / n}}$$"
   ]
  },
  {
   "cell_type": "code",
   "execution_count": 8,
   "metadata": {},
   "outputs": [
    {
     "name": "stdout",
     "output_type": "stream",
     "text": [
      "-3.3541019662496865\n",
      "Região crítica com alpha = 0.02: -2.053748910631823\n",
      "Região crítica com alpha = 0.1: -1.2815515655446004\n"
     ]
    }
   ],
   "source": [
    "p_hat = 270 / 320\n",
    "p0 = 0.9\n",
    "n = 320\n",
    "alpha = 0.02\n",
    "z_statistic = (p_hat - p0) / math.sqrt((p0 * (1 - p0)) / n)\n",
    "\n",
    "print(z_statistic)\n",
    "\n",
    "critical_z = stats.norm.ppf(alpha)\n",
    "\n",
    "print(f\"Região crítica com alpha = {alpha}: {critical_z}\")\n",
    "\n",
    "alpha = 0.1\n",
    "critical_z = stats.norm.ppf(alpha)\n",
    "\n",
    "print(f\"Região crítica com alpha = {alpha}: {critical_z}\")\n"
   ]
  },
  {
   "cell_type": "code",
   "execution_count": 9,
   "metadata": {},
   "outputs": [
    {
     "name": "stdout",
     "output_type": "stream",
     "text": [
      "p-valor = 0.00039811507879540314\n"
     ]
    }
   ],
   "source": [
    "p_value = stats.norm.cdf(z_statistic)\n",
    "print(f\"p-valor = {p_value}\")"
   ]
  },
  {
   "cell_type": "markdown",
   "metadata": {},
   "source": [
    "Independentemente do nível de significância, como z_statistic < critical_z, Rejeitamos H_0. Portanto, não é verdadeira a afirmação do fabricante."
   ]
  },
  {
   "cell_type": "markdown",
   "metadata": {
    "id": "7LXPGNjS3XB3"
   },
   "source": [
    "## *Questão 5*\n",
    "\n",
    "Para ajudar os lojistas em seu planejamento, a cada ano se realiza um estudo para se determinar quanto as pessoas pretendem gastar com presentes nas festas de fim de ano. Em uma pesquisa de novembro de 2023, obteve-se uma amostra de compradores e lhes foi pedido que estimassem a quantia que pretendiam gastar (em dólares) com presentes. A média amostral dos gastos antecipada foi relatada por gênero, grupo de idade, e nível de renda. Considere as estatísticas-resumo dadas na tabela que segue:\n",
    "\n",
    "\n",
    "| Grupo de | Tamanho amostra  |  Média amostral  |  Desv Pad amostral  |\n",
    "|----------|:----------------:|:----------------:|:-------------------:|\n",
    "| Homens   | 21               | 784              | 37,5                |\n",
    "| Mulheres | 19               | 652              | 17,01              |\n",
    "\n",
    "\n",
    "* (1.5 pts) Historicamente, os homens relatam gastos maiores do que os das mulheres. Com base nos dados de 2023, há alguma evidência que sugira que a quantidade média que os homens pretendem gastar seja maior do que a quantidade média que as mulheres pretendem gastar? Use α = 0,05, e admita que as populações sejam normais.\n",
    "\n",
    "* (1.5 pts) Pode-se afirmar, com o nível de significância de 1% que a variabilidade dos gastos com presentes do grupo das mulheres é menor do que a variabilidade dos gastos com presentes no grupo dos homens?\n",
    "\n",
    "* (1.5 pts) Os lojistas, realizam uma nova enquete para determinar a proporção de pessoas de que pretendia ter gastos com presentes inferiores a $R\\$ 500$. As proporções foram 0.37 e 0.48 para homens e mulheres, respectivamente. Quer se testar a hipótese nula de que a proporção de homens que gastam menos de $R\\$ 500$ com presentes é igual que a proporção de mulheres, ao nível de significância de α = 0.03, podemos afirmar que isto é verdade? Obs.: utilize o tamanho de amostras das populações dado na tabela.\n",
    "\n"
   ]
  },
  {
   "cell_type": "markdown",
   "metadata": {},
   "source": [
    "### questão a)\n",
    "\n",
    "#### Pressupostos:\n",
    "\n",
    "$\\mu_h$ é a média dos gastos dos homens\n",
    "$\\mu_m$ é a média dos gastos das mulheres\n",
    "\n",
    "- **Hipótese nula ($H_0$)**: A média dos gastos dos homens é igual à média dos gastos das mulheres.\n",
    "  \n",
    "  $H_0: \\mu_h = \\mu_m$\n",
    "  \n",
    "- **Hipótese alternativa ($H_a$)**: A média dos gastos dos homens é maior do que a média dos gastos das mulheres.\n",
    "\n",
    "  $H_a: \\mu_h > \\mu_m$\n",
    "\n",
    "Vamos resolver cada uma das questões passo a passo.\n",
    "\n",
    "### Questão 1: Comparação das médias de gastos (Homens vs Mulheres)\n",
    "**Hipóteses**:\n",
    "- **Hipótese nula (H₀)**: A média dos gastos dos homens é igual à média dos gastos das mulheres.\n",
    "  \n",
    "  \\[ H₀: \\mu_h = \\mu_m \\]\n",
    "  \n",
    "- **Hipótese alternativa (H₁)**: A média dos gastos dos homens é maior do que a média dos gastos das mulheres.\n",
    "\n",
    "  \\[ H₁: \\mu_h > \\mu_m \\]\n",
    "\n",
    "Esta é uma comparação de duas médias, portanto, utilizamos o teste t para duas amostras independentes.\n",
    "\n",
    "**Estatística de teste**:\n",
    "A estatística de teste para o teste t para duas amostras independentes é dada por:\n",
    "\n",
    "\\[\n",
    "t = \\frac{\\bar{X}_h - \\bar{X}_m}{\\sqrt{\\frac{s_h^2}{n_h} + \\frac{s_m^2}{n_m}}}\n",
    "\\]\n",
    "\n",
    "Onde:\n",
    "- \\( \\bar{X}_h \\) e \\( \\bar{X}_m \\) são as médias amostrais dos homens e mulheres, respectivamente.\n",
    "- \\( s_h \\) e \\( s_m \\) são os desvios padrão amostrais dos homens e mulheres, respectivamente.\n",
    "- \\( n_h \\) e \\( n_m \\) são os tamanhos das amostras de homens e mulheres, respectivamente.\n",
    "\n",
    "**Valores conhecidos**:\n",
    "- Homens: \\( \\bar{X}_h = 784 \\), \\( s_h = 37,5 \\), \\( n_h = 21 \\)\n",
    "- Mulheres: \\( \\bar{X}_m = 652 \\), \\( s_m = 17,01 \\), \\( n_m = 19 \\)\n",
    "\n",
    "Substituímos esses valores na fórmula da estatística t.\n",
    "\n",
    "**Graus de liberdade (df)**:\n",
    "Para o teste t, os graus de liberdade podem ser calculados usando a fórmula de Welch, considerando amostras de tamanhos diferentes e variâncias diferentes:\n",
    "\n",
    "\\[\n",
    "df = \\frac{\\left( \\frac{s_h^2}{n_h} + \\frac{s_m^2}{n_m} \\right)^2}{\\frac{\\left( \\frac{s_h^2}{n_h} \\right)^2}{n_h - 1} + \\frac{\\left( \\frac{s_m^2}{n_m} \\right)^2}{n_m - 1}}\n",
    "\\]\n",
    "\n",
    "Com isso, calculamos o valor de t e a região crítica.\n",
    "\n",
    "### Questão 2: Comparação das variabilidades dos gastos (Homens vs Mulheres)\n",
    "**Hipóteses**:\n",
    "- **Hipótese nula (H₀)**: A variabilidade dos gastos das mulheres é igual à dos homens.\n",
    "\n",
    "  \\[ H₀: \\sigma_h^2 = \\sigma_m^2 \\]\n",
    "\n",
    "- **Hipótese alternativa (H₁)**: A variabilidade dos gastos das mulheres é menor que a dos homens.\n",
    "\n",
    "  \\[ H₁: \\sigma_h^2 > \\sigma_m^2 \\]\n",
    "\n",
    "Para testar essa hipótese, usamos o **teste F** para comparar as variâncias de duas amostras.\n",
    "\n",
    "**Estatística de teste**:\n",
    "A estatística F para comparar variâncias é dada por:\n",
    "\n",
    "\\[\n",
    "F = \\frac{s_h^2}{s_m^2}\n",
    "\\]\n",
    "\n",
    "Onde:\n",
    "- \\( s_h^2 \\) é a variância amostral dos homens.\n",
    "- \\( s_m^2 \\) é a variância amostral das mulheres.\n",
    "\n",
    "Calculamos a estatística F e comparamos com a distribuição F para determinar a região crítica. O nível de significância é 1%, então procuramos o valor crítico de F para \\( \\alpha = 0,01 \\).\n",
    "\n",
    "### Questão 3: Teste de proporções (Homens vs Mulheres, gasto inferior a R$ 500)\n",
    "**Hipóteses**:\n",
    "- **Hipótese nula (H₀)**: A proporção de homens que gastam menos de R$ 500 é igual à proporção de mulheres.\n",
    "\n",
    "  \\[ H₀: p_h = p_m \\]\n",
    "\n",
    "- **Hipótese alternativa (H₁)**: A proporção de homens que gastam menos de R$ 500 é diferente da proporção de mulheres.\n",
    "\n",
    "  \\[ H₁: p_h \\neq p_m \\]\n",
    "\n",
    "Neste caso, usamos o **teste de diferença de proporções**.\n",
    "\n",
    "**Estatística de teste**:\n",
    "A estatística de teste para a diferença de proporções é dada por:\n",
    "\n",
    "\\[\n",
    "z = \\frac{p_h - p_m}{\\sqrt{ \\hat{p}(1 - \\hat{p}) \\left( \\frac{1}{n_h} + \\frac{1}{n_m} \\right) }}\n",
    "\\]\n",
    "\n",
    "Onde:\n",
    "- \\( p_h = 0,37 \\) e \\( p_m = 0,48 \\) são as proporções amostrais de homens e mulheres.\n",
    "- \\( n_h = 21 \\) e \\( n_m = 19 \\) são os tamanhos das amostras.\n",
    "- \\( \\hat{p} \\) é a proporção combinada, dada por:\n",
    "\n",
    "\\[\n",
    "\\hat{p} = \\frac{x_h + x_m}{n_h + n_m}\n",
    "\\]\n",
    "\n",
    "Onde \\( x_h \\) e \\( x_m \\) são os números de sucessos (pessoas que gastam menos de R$ 500) nas amostras de homens e mulheres.\n",
    "\n",
    "**Conclusão**:\n",
    "- Calculamos a estatística \\( z \\) e verificamos o p-valor.\n",
    "- Comparamos o p-valor com o nível de significância \\( \\alpha = 0,03 \\).\n",
    "- Se o p-valor for menor que \\( \\alpha \\), rejeitamos a hipótese nula.\n",
    "\n",
    "Agora, vamos calcular as estatísticas e tomar as decisões para cada questão.\n",
    "\n",
    "It seems like I can’t do more advanced data analysis right now. Please try again later. If you would like, I can guide you through the steps to manually calculate the necessary statistics and interpret the results. Let me know how you'd like to proceed!"
   ]
  },
  {
   "cell_type": "markdown",
   "metadata": {
    "id": "C47Uc1GA-Tp7"
   },
   "source": [
    "## *Questão 6*\n",
    "\n",
    "(1.5 pts) Uma siderúrgica recebe carvão mineral de duas mineradoras como matéria-prima para a fabricação de aço. São obtidas aleatoriamente 48 unidades amostrais do produto fornecido pela mineradora A, para as quais se mede o conteúdo de enxofre. Com base nessas 48 medições calculam-se para essa variável uma média amostral de 0,60% e um desvio padrão amostral de 0,056%. Enquanto isso, outras 65 análises do carvão proveniente da mineradora B nos levam a uma média amostral de 0,70% de enxofre e um desvio padrão amostral de 0,065%. Decida se as médias populacionais podem ser consideradas diferentes."
   ]
  },
  {
   "cell_type": "markdown",
   "metadata": {},
   "source": [
    "Hipótese nula:\n",
    "\n",
    "$H_0$: $\\mu_A - \\mu_B = 0 \\\\$\n",
    "\n",
    "Hipótese alternativa:\n",
    "\n",
    "$H_a$: $\\mu_A - \\mu_B \\neq 0\\\\$\n",
    "\n",
    "$n_A = 48, n_B = 65\\\\$\n",
    "$\\bar{X}_A = 0,006, \\bar{X}_B = 0,007\\\\$\n",
    "$s_A = 0,00056, s_B = 0,00065\\\\$\n",
    "\n"
   ]
  },
  {
   "cell_type": "code",
   "execution_count": 17,
   "metadata": {},
   "outputs": [
    {
     "name": "stdout",
     "output_type": "stream",
     "text": [
      "2.9753977059954195e-14\n"
     ]
    }
   ],
   "source": [
    "n_A = 48\n",
    "n_B = 65\n",
    "X_A = 0.006\n",
    "X_B = 0.007\n",
    "s_A = 0.00056\n",
    "s_B = 0.00065\n",
    "\n",
    "T = (X_A - X_B) / math.sqrt(s_A ** 2 / n_A + s_B ** 2 / n_B)\n",
    "v = ((s_A ** 2 / n_A) + (s_B ** 2 / n_B)) ** 2 / ((s_A ** 2 / n_A) ** 2 / (n_A - 1) + (s_B ** 2 / n_B) ** 2 / (n_B - 1))\n",
    "\n",
    "p_valor = 2 * (1 - stats.t.cdf(abs(T), v))\n",
    "print(p_valor)"
   ]
  },
  {
   "cell_type": "markdown",
   "metadata": {},
   "source": [
    "A estatística de teste sendo usada neste caso é a do  teste t para duas amostras independentes:\n",
    "\n",
    "$t = \\frac{\\bar{X}_A - \\bar{X}_B}{\\sqrt{\\frac{s_A^2}{n_A} + \\frac{s_B^2}{n_B}}}$\n",
    "\n"
   ]
  }
 ],
 "metadata": {
  "colab": {
   "provenance": []
  },
  "kernelspec": {
   "display_name": "venv",
   "language": "python",
   "name": "python3"
  },
  "language_info": {
   "codemirror_mode": {
    "name": "ipython",
    "version": 3
   },
   "file_extension": ".py",
   "mimetype": "text/x-python",
   "name": "python",
   "nbconvert_exporter": "python",
   "pygments_lexer": "ipython3",
   "version": "3.12.4"
  }
 },
 "nbformat": 4,
 "nbformat_minor": 4
}
