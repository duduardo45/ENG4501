{
 "cells": [
  {
   "cell_type": "code",
   "execution_count": 6,
   "metadata": {},
   "outputs": [],
   "source": [
    "import math\n",
    "import scipy.stats as stats"
   ]
  },
  {
   "cell_type": "markdown",
   "metadata": {
    "id": "W6BKaWyt0aux"
   },
   "source": [
    "# **Atividade Testes de Hipóteses (2024.2)**\n",
    "\n",
    "***Para todas as questões defina as hipóteses, indique qual é a estatística de teste que está sendo usada. Indique, através de intervalos, a Região crítica. Calcule o p-valor e lembre sempre de fazer a sua conclusão a respeito do problema.***\n"
   ]
  },
  {
   "cell_type": "markdown",
   "metadata": {
    "id": "mjJaZIn20KVR"
   },
   "source": [
    "## *Questão 1*\n",
    "(1.0 pts) Uma propaganda afirma que o consumo médio de gasolina de determinada marca de automóvel é de 15 litros por 100 quilômetros rodados. Um teste com 40 automóveis desta marca acusa um consumo médio de 15,6 litros por 100 quilômetros rodados com desvio padrão de 1 litro por 100 quilômetros rodados. O que se pode concluir sobre a propaganda? Use o nível de significância de 10%\n"
   ]
  },
  {
   "cell_type": "markdown",
   "metadata": {
    "id": "vffbJ4H21LhJ"
   },
   "source": [
    "## *Questão 2*\n",
    "\n",
    "(1.0 pts) Depois de desenvolver um algoritmo para acelerar a execução de determinada tarefa rotineira em um escritório de contabilidade, o analista de sistema analisa uma amostra de 25 tempos, obtendo uma média 56,5 segundos e desvio padrão de 6 segundos. Dos dados passados, ele sabe que o tempo de execução é aproximadamente normal com média de 58,5 segundos. Use o nível de significância de 5% para decidir se o algoritmo do analista realmente melhorou o desempenho do sistema.\n"
   ]
  },
  {
   "cell_type": "markdown",
   "metadata": {},
   "source": [
    "$$H_0: μ \\geq 58,5$$\n",
    "$$H_a: μ < 58,5$$\n",
    "\n",
    "A estatística de teste é:\n",
    "\n",
    "$$T_0 = \\frac{\\bar{X} - \\mu}{s/\\sqrt{n}}$$"
   ]
  },
  {
   "cell_type": "code",
   "execution_count": 12,
   "metadata": {},
   "outputs": [
    {
     "name": "stdout",
     "output_type": "stream",
     "text": [
      "-1.7108820799094282\n"
     ]
    }
   ],
   "source": [
    "n = 25  # sample size\n",
    "sample_mean = 56.5  # sample mean\n",
    "sample_std = 6  # sample standard deviation\n",
    "population_mean = 58.5  # hypothesized population mean under H0\n",
    "alpha = 0.05  # significance level\n",
    "\n",
    "t_statistic = (sample_mean - population_mean) / (sample_std / math.sqrt(n))\n",
    "\n",
    "critical_t = stats.t.ppf(alpha, df=n-1)\n",
    "\n",
    "print(critical_t)\n"
   ]
  },
  {
   "cell_type": "markdown",
   "metadata": {},
   "source": [
    "O intervalo da região crítica é:\n",
    "\n",
    "$$(-\\infty, -1.7108820799094282]$$\n"
   ]
  },
  {
   "cell_type": "code",
   "execution_count": 13,
   "metadata": {},
   "outputs": [
    {
     "name": "stdout",
     "output_type": "stream",
     "text": [
      "-1.6666666666666667 < -1.7108820799094282? False\n",
      "p-valor = 0.05429006151236145\n"
     ]
    }
   ],
   "source": [
    "p_value = stats.t.cdf(t_statistic, df=n-1)\n",
    "\n",
    "print(f\"{t_statistic} < {critical_t}? {t_statistic < critical_t}\")\n",
    "print(f\"p-valor = {p_value}\")"
   ]
  },
  {
   "cell_type": "markdown",
   "metadata": {},
   "source": [
    "Como não é verdade que t_statistic < critical_t, não conseguimos rejeitar H_0. Portanto, não temos evidências para afirmar que o algoritmo do analista realmente melhorou o desempenho do sistema."
   ]
  },
  {
   "cell_type": "markdown",
   "metadata": {
    "id": "yGkscXpr1ZLc"
   },
   "source": [
    "## *Questão 3*\n",
    "\n",
    "(1.0 pts) Dados históricos indicam que a variância na taxa de câmbio do iene japonês contra o dólar americano é aproximadamente 1,52. Obteve-se uma amostra aleatória de 30 taxas de câmbio de fechamento, que acusou uma variância $s^2 = 2,1$. Realize um teste de hipótese para verificar se houve mudança na variância na taxa de câmbio."
   ]
  },
  {
   "cell_type": "markdown",
   "metadata": {
    "id": "Zb9c3WV_2ifm"
   },
   "source": [
    "## *Questão 4*\n",
    "(1.0 pts) Um fabricante garante que pelo menos 90% das peças que fornece à linha de produção de uma determinada fábrica estão de acordo com as especificações exigidas.\n",
    "A análise de uma amostra de 320 peças mostrou que 50 peças não estão de acordo com as especificações exigidas. A um nível significância de 2% e 10%, podemos dizer que é verdadeira a afirmação do fabricante?\n"
   ]
  },
  {
   "cell_type": "markdown",
   "metadata": {
    "id": "7LXPGNjS3XB3"
   },
   "source": [
    "## *Questão 5*\n",
    "\n",
    "Para ajudar os lojistas em seu planejamento, a cada ano se realiza um estudo para se determinar quanto as pessoas pretendem gastar com presentes nas festas de fim de ano. Em uma pesquisa de novembro de 2023, obteve-se uma amostra de compradores e lhes foi pedido que estimassem a quantia que pretendiam gastar (em dólares) com presentes. A média amostral dos gastos antecipada foi relatada por gênero, grupo de idade, e nível de renda. Considere as estatísticas-resumo dadas na tabela que segue:\n",
    "\n",
    "\n",
    "| Grupo de | Tamanho amostra  |  Média amostral  |  Desv Pad amostral  |\n",
    "|----------|:----------------:|:----------------:|:-------------------:|\n",
    "| Homens   | 21               | 784              | 37,5                |\n",
    "| Mulheres | 19               | 652              | 17,01              |\n",
    "\n",
    "\n",
    "* (1.5 pts) Historicamente, os homens relatam gastos maiores do que os das mulheres. Com base nos dados de 2023, há alguma evidência que sugira que a quantidade média que os homens pretendem gastar seja maior do que a quantidade média que as mulheres pretendem gastar? Use α = 0,05, e admita que as populações sejam normais.\n",
    "\n",
    "* (1.5 pts) Pode-se afirmar, com o nível de significância de 1% que a variabilidade dos gastos com presentes do grupo das mulheres é menor do que a variabilidade dos gastos com presentes no grupo dos homens?\n",
    "\n",
    "* (1.5 pts) Os lojistas, realizam uma nova enquete para determinar a proporção de pessoas de que pretendia ter gastos com presentes inferiores a $R\\$ 500$. As proporções foram 0.37 e 0.48 para homens e mulheres, respectivamente. Quer se testar a hipótese nula de que a proporção de homens que gastam menos de $R\\$ 500$ com presentes é igual que a proporção de mulheres, ao nível de significância de α = 0.03, podemos afirmar que isto é verdade? Obs.: utilize o tamanho de amostras das populações dado na tabela.\n",
    "\n"
   ]
  },
  {
   "cell_type": "markdown",
   "metadata": {
    "id": "C47Uc1GA-Tp7"
   },
   "source": [
    "## *Questão 6*\n",
    "\n",
    "(1.5 pts) Uma siderúrgica recebe carvão mineral de duas mineradoras como matéria-prima para a fabricação de aço. São obtidas aleatoriamente 48 unidades amostrais do produto fornecido pela mineradora A, para as quais se mede o conteúdo de enxofre. Com base nessas 48 medições calculam-se para essa variável uma média amostral de 0,60% e um desvio padrão amostral de 0,056%. Enquanto isso, outras 65 análises do carvão proveniente da mineradora B nos levam a uma média amostral de 0,70% de enxofre e um desvio padrão amostral de 0,065%. Decida se as médias populacionais podem ser consideradas diferentes."
   ]
  },
  {
   "cell_type": "code",
   "execution_count": null,
   "metadata": {},
   "outputs": [],
   "source": []
  }
 ],
 "metadata": {
  "colab": {
   "provenance": []
  },
  "kernelspec": {
   "display_name": "Python 3 (ipykernel)",
   "language": "python",
   "name": "python3"
  },
  "language_info": {
   "codemirror_mode": {
    "name": "ipython",
    "version": 3
   },
   "file_extension": ".py",
   "mimetype": "text/x-python",
   "name": "python",
   "nbconvert_exporter": "python",
   "pygments_lexer": "ipython3",
   "version": "3.12.3"
  }
 },
 "nbformat": 4,
 "nbformat_minor": 4
}
