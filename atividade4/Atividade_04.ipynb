{
 "cells": [
  {
   "cell_type": "markdown",
   "id": "b697d29a-4669-4b48-b3d3-afdfe4aaf0e6",
   "metadata": {},
   "source": [
    "# ***Atividade em aula***"
   ]
  },
  {
   "cell_type": "markdown",
   "id": "b50791a5-1d10-4c58-afc9-dd0360a00e03",
   "metadata": {},
   "source": [
    "# Exercício 1\n",
    "\n",
    "Em 95% dos casos, uma certa doença pode ser curada através de um procedimento cirúrgico. Se sorteamos 20 pacientes que possuem essa doença e os submetemos à cirurgia. Tratando o resultado (cura ou não cura) de cada um desses pacientes como eventos independentes, \n",
    "\n",
    "1. Qual a probabilidade de todos os pacientes serem curados da doença?\n",
    "2. Qual a probabilidade de nenhum dos pacientes ser curado da doença?\n",
    "3. Qual a probabilidade de ao menos 15 pacientes serem curados da doença?"
   ]
  },
  {
   "cell_type": "markdown",
   "id": "63fc1208-177f-439a-bf61-af4c40efc344",
   "metadata": {},
   "source": [
    "# Exercício 2\n",
    "\n",
    "Um laboratório admite que o número de partículas emitidas em um minuto por certo material radioativo A tem função de probabilidade Poisson com parâmetro $\\mu_A = 4$.\n",
    "\n",
    "1. Produza um gráfico da função de probabilidade Poisson com parâmetro $\\mu_A = 4$."
   ]
  },
  {
   "cell_type": "code",
   "execution_count": null,
   "id": "3480e5e1",
   "metadata": {},
   "outputs": [],
   "source": [
    "import matplotlib.pyplot as plt\n",
    "from scipy.stats\n",
    "\n",
    "plt.figure(figsize=(10, 6))\n",
    "\n",
    "\n",
    "plt.title('X ~ Poisson()')\n",
    "plt.xlabel('tempo (min)')\n",
    "plt.ylabel('nº partículas')\n",
    "plt.show()"
   ]
  },
  {
   "cell_type": "markdown",
   "id": "bb9734e3",
   "metadata": {},
   "source": [
    "2. Qual a probabilidade que, em dado minuto, mais de 6 partículas sejam emitidas pelo material A?\n",
    "3. Para um outro material B, a emissão de partículas por minuto tem função de probabilidade Poisson com parâmetro $\\mu_B = 0.7$. Em dado minuto, qual a probabilidade de nenhum dos materiais emitir partícula alguma. Considere a emissão de partículas pelos materiais como variáveis independentes.\n"
   ]
  },
  {
   "cell_type": "markdown",
   "id": "3ef67b2f-cea5-4c35-8f74-2627af9def40",
   "metadata": {},
   "source": [
    "# Exercício 3\n",
    "\n",
    "A distribuição geométrica possui a propriedade de \"perda de memória\".\n",
    "\n",
    "1. Pesquise e explique com suas palavras o que significa a propriedade de \"perda de memória\" (memorylessness).\n",
    "2. Qual a distribuição contínua que também possui a propriedade de \"perda de memória\".\n",
    "3. Crie um exemplo prático que ilustre a propriedade de \"perda de memória\"."
   ]
  },
  {
   "cell_type": "markdown",
   "id": "1c9931e4-750a-4fd4-a23a-d95ae23fd530",
   "metadata": {},
   "source": [
    "# Exercício 4\n",
    "\n",
    "O tempo necessário para a execução de um teste de aptidão feito por pilotos de aeronaves em treinamento é distribuido de acordo com uma Normal de 80 minutos de média e desvio padrão de 15 minutos.\n",
    "\n",
    "1. Qual a probabilidade de um aprendiz de piloto levar mais de uma hora para completar o teste?\n",
    "2. Qual a probabilidade de um aprendiz de piloto ser pelo menos 10 minutos mais rápido que a média para completar o teste?\n",
    "3. Em um grupo de 5 pilotos submetidos ao teste independentemente, qual a probabilidade de todos levarem entre 60 e 100 minutos para competar o teste?\n"
   ]
  },
  {
   "cell_type": "code",
   "execution_count": null,
   "id": "0367e20c-c2fd-41dc-880c-7754708d4992",
   "metadata": {},
   "outputs": [],
   "source": []
  }
 ],
 "metadata": {
  "kernelspec": {
   "display_name": "Python 3 (ipykernel)",
   "language": "python",
   "name": "python3"
  },
  "language_info": {
   "codemirror_mode": {
    "name": "ipython",
    "version": 3
   },
   "file_extension": ".py",
   "mimetype": "text/x-python",
   "name": "python",
   "nbconvert_exporter": "python",
   "pygments_lexer": "ipython3",
   "version": "3.10.6"
  }
 },
 "nbformat": 4,
 "nbformat_minor": 5
}
