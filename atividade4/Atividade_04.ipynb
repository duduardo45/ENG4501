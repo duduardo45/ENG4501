{
 "cells": [
  {
   "cell_type": "markdown",
   "id": "b697d29a-4669-4b48-b3d3-afdfe4aaf0e6",
   "metadata": {},
   "source": [
    "# ***Atividade em aula***"
   ]
  },
  {
   "cell_type": "markdown",
   "id": "b50791a5-1d10-4c58-afc9-dd0360a00e03",
   "metadata": {},
   "source": [
    "# Exercício 1\n",
    "\n",
    "Em 95% dos casos, uma certa doença pode ser curada através de um procedimento cirúrgico. Se sorteamos 20 pacientes que possuem essa doença e os submetemos à cirurgia. Tratando o resultado (cura ou não cura) de cada um desses pacientes como eventos independentes, \n",
    "\n",
    "1. Qual a probabilidade de todos os pacientes serem curados da doença?\n",
    "2. Qual a probabilidade de nenhum dos pacientes ser curado da doença?\n",
    "3. Qual a probabilidade de ao menos 15 pacientes serem curados da doença?"
   ]
  },
  {
   "cell_type": "code",
   "execution_count": 1,
   "id": "60419a2e",
   "metadata": {},
   "outputs": [
    {
     "name": "stdout",
     "output_type": "stream",
     "text": [
      "Chance de todos se curarem:  0.3584859224085419\n",
      "Chance de nenhum se curar:   9.536743164062669e-27\n",
      "Chance de ao menos 15 se curarem:   0.9996707056754719\n"
     ]
    }
   ],
   "source": [
    "from scipy.stats import binom\n",
    "\n",
    "p = 0.95\n",
    "qtd = 20\n",
    "todos_curados = (p)**qtd\n",
    "\n",
    "print(\"Chance de todos se curarem: \", todos_curados)\n",
    "\n",
    "nenhum_curado = (1 - p)**qtd\n",
    "\n",
    "print(\"Chance de nenhum se curar:  \", nenhum_curado)\n",
    "\n",
    "curados_15 = sum(binom.pmf(k, qtd, p) for k in range(15, qtd + 1))\n",
    "\n",
    "print(\"Chance de ao menos 15 se curarem:  \", curados_15)"
   ]
  },
  {
   "cell_type": "markdown",
   "id": "63fc1208-177f-439a-bf61-af4c40efc344",
   "metadata": {},
   "source": [
    "# Exercício 2\n",
    "\n",
    "Um laboratório admite que o número de partículas emitidas em um minuto por certo material radioativo A tem função de probabilidade Poisson com parâmetro $\\mu_A = 4$.\n",
    "\n",
    "1. Produza um gráfico da função de probabilidade Poisson com parâmetro $\\mu_A = 4$."
   ]
  },
  {
   "cell_type": "code",
   "execution_count": 2,
   "id": "3480e5e1",
   "metadata": {},
   "outputs": [
    {
     "data": {
      "image/png": "[encoded data removed]",
      "text/plain": [
       "<Figure size 1000x600 with 1 Axes>"
      ]
     },
     "metadata": {},
     "output_type": "display_data"
    }
   ],
   "source": [
    "import matplotlib.pyplot as plt\n",
    "import numpy as np\n",
    "from scipy.stats import poisson\n",
    "\n",
    "muA = 4\n",
    "x = np.arange(0, 15)\n",
    "\n",
    "probabilities = poisson.pmf(x, muA)\n",
    "\n",
    "\n",
    "plt.figure(figsize=(10, 6))\n",
    "plt.bar(x, probabilities, color='limegreen')\n",
    "\n",
    "plt.title('X ~ Poisson()')\n",
    "plt.xlabel('tempo (min)')\n",
    "plt.ylabel('nº partículas')\n",
    "plt.show()"
   ]
  },
  {
   "cell_type": "markdown",
   "id": "bb9734e3",
   "metadata": {},
   "source": [
    "2. Qual a probabilidade que, em dado minuto, mais de 6 partículas sejam emitidas pelo material A?"
   ]
  },
  {
   "cell_type": "code",
   "execution_count": 3,
   "id": "a77e72de",
   "metadata": {},
   "outputs": [
    {
     "name": "stdout",
     "output_type": "stream",
     "text": [
      "Probabilidade de A emitir mais de 6 partículas em 1 minuto: 0.11067397840257365\n"
     ]
    }
   ],
   "source": [
    "probabilty = 1 - poisson.cdf(6, muA)\n",
    "print(f'Probabilidade de A emitir mais de 6 partículas em 1 minuto: {probabilty}')"
   ]
  },
  {
   "cell_type": "markdown",
   "id": "33178426",
   "metadata": {},
   "source": [
    "3. Para um outro material B, a emissão de partículas por minuto tem função de probabilidade Poisson com parâmetro $\\mu_B = 0.7$. Em dado minuto, qual a probabilidade de nenhum dos materiais emitir partícula alguma. Considere a emissão de partículas pelos materiais como variáveis independentes."
   ]
  },
  {
   "cell_type": "code",
   "execution_count": 4,
   "id": "ae28d5f0",
   "metadata": {},
   "outputs": [
    {
     "name": "stdout",
     "output_type": "stream",
     "text": [
      "Probabilidade de nenhum material emitir partículas em 1 minuto: 0.009095277101695817\n"
     ]
    }
   ],
   "source": [
    "muB = 0.7\n",
    "\n",
    "probA = poisson.pmf(0, muA)\n",
    "probB = poisson.pmf(0, muB)\n",
    "\n",
    "# Por serem variáveis indepentes, a probabilidade da interseção dos eventos é seu produto\n",
    "\n",
    "prob = probA * probB\n",
    "\n",
    "print(f'Probabilidade de nenhum material emitir partículas em 1 minuto: {prob}')"
   ]
  },
  {
   "cell_type": "markdown",
   "id": "3ef67b2f-cea5-4c35-8f74-2627af9def40",
   "metadata": {},
   "source": [
    "# Exercício 3\n",
    "\n",
    "A distribuição geométrica possui a propriedade de \"perda de memória\".\n",
    "\n",
    "1. Pesquise e explique com suas palavras o que significa a propriedade de \"perda de memória\" (memorylessness).\n",
    "2. Qual a distribuição contínua que também possui a propriedade de \"perda de memória\".\n",
    "3. Crie um exemplo prático que ilustre a propriedade de \"perda de memória\"."
   ]
  },
  {
   "cell_type": "markdown",
   "id": "183bb3f4",
   "metadata": {},
   "source": [
    "1. A perda de memória indica que a probabilidade de obter um sucesso depois de n fracassos sucessivos é a mesma independente de n. Ou seja, a probabilidade de obter um sucesso no próximo evento não é afetada pela quantidade de fracassos que já aconteceram.\n",
    "2. A distribuição exponencial\n",
    "3. Se uma pessoa joga uma moeda 10 vezes e todas as vezes ela obtém \"cara\", a chance de obter cara na próxima jogada ainda é 50%. Acreditar que existe maior chance de obter \"coroa\" somente porque obtivemos \"cara\" muitas vezes é um caso da falácia do apostador"
   ]
  },
  {
   "cell_type": "markdown",
   "id": "1c9931e4-750a-4fd4-a23a-d95ae23fd530",
   "metadata": {},
   "source": [
    "# Exercício 4\n",
    "\n",
    "O tempo necessário para a execução de um teste de aptidão feito por pilotos de aeronaves em treinamento é distribuido de acordo com uma Normal de 80 minutos de média e desvio padrão de 15 minutos.\n",
    "\n",
    "1. Qual a probabilidade de um aprendiz de piloto levar mais de uma hora para completar o teste?\n",
    "2. Qual a probabilidade de um aprendiz de piloto ser pelo menos 10 minutos mais rápido que a média para completar o teste?\n",
    "3. Em um grupo de 5 pilotos submetidos ao teste independentemente, qual a probabilidade de todos levarem entre 60 e 100 minutos para competar o teste?\n"
   ]
  },
  {
   "cell_type": "code",
   "execution_count": 5,
   "id": "0367e20c-c2fd-41dc-880c-7754708d4992",
   "metadata": {},
   "outputs": [
    {
     "name": "stdout",
     "output_type": "stream",
     "text": [
      "0.9087887802741321\n"
     ]
    }
   ],
   "source": [
    "import scipy.stats as stats\n",
    "\n",
    "media = 80  # média em minutos\n",
    "\n",
    "desvio_padrao = 15  # desvio padrão em minutos\n",
    "\n",
    "uma_hora = 60\n",
    "\n",
    "# Calculando a probabilidade de o tempo ser maior que uma hora\n",
    "\n",
    "probabilidade = 1 - stats.norm.cdf(uma_hora, loc=media, scale=desvio_padrao)\n",
    "\n",
    "print(probabilidade)"
   ]
  },
  {
   "cell_type": "code",
   "execution_count": 6,
   "id": "6fdf244e",
   "metadata": {},
   "outputs": [
    {
     "name": "stdout",
     "output_type": "stream",
     "text": [
      "0.2524925375469229\n"
     ]
    }
   ],
   "source": [
    "tempo_rapido = media - 10\n",
    "\n",
    "probabilidade = stats.norm.cdf(tempo_rapido, loc=media, scale=desvio_padrao)\n",
    "\n",
    "print(probabilidade)"
   ]
  },
  {
   "cell_type": "code",
   "execution_count": 7,
   "id": "cdac0e67",
   "metadata": {},
   "outputs": [
    {
     "name": "stdout",
     "output_type": "stream",
     "text": [
      "0.36529591526284527\n"
     ]
    }
   ],
   "source": [
    "limite_inferior = 60\n",
    "limite_superior = 100\n",
    "\n",
    "# Calculando a probabilidade de um piloto individual completar o teste entre 60 e 100 minutos\n",
    "prob_individual = stats.norm.cdf(limite_superior, media, desvio_padrao) - stats.norm.cdf(limite_inferior, media, desvio_padrao)\n",
    "\n",
    "# A probabilidade de todos os 5 pilotos completarem o teste entre 60 e 100 minutos é a probabilidade individual elevada à quinta potência\n",
    "prob_grupo = prob_individual ** 5\n",
    "\n",
    "print(prob_grupo)"
   ]
  }
 ],
 "metadata": {
  "kernelspec": {
   "display_name": "venv",
   "language": "python",
   "name": "python3"
  },
  "language_info": {
   "codemirror_mode": {
    "name": "ipython",
    "version": 3
   },
   "file_extension": ".py",
   "mimetype": "text/x-python",
   "name": "python",
   "nbconvert_exporter": "python",
   "pygments_lexer": "ipython3",
   "version": "3.11.7"
  }
 },
 "nbformat": 4,
 "nbformat_minor": 5
}
