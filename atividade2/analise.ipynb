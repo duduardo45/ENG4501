{
 "cells": [
  {
   "cell_type": "code",
   "execution_count": 1,
   "metadata": {},
   "outputs": [],
   "source": [
    "import pandas as pd\n",
    "import numpy as np\n",
    "import matplotlib.pyplot as plt\n",
    "import seaborn as sns"
   ]
  },
  {
   "cell_type": "code",
   "execution_count": 2,
   "metadata": {},
   "outputs": [],
   "source": [
    "df = pd.read_csv(\"pizza_sales.csv\")"
   ]
  },
  {
   "cell_type": "code",
   "execution_count": 3,
   "metadata": {},
   "outputs": [],
   "source": [
    "continua = 'total_price'\n",
    "discreta = 'quantity'"
   ]
  },
  {
   "cell_type": "markdown",
   "metadata": {},
   "source": [
    "# Davi"
   ]
  },
  {
   "cell_type": "markdown",
   "metadata": {},
   "source": [
    "1) Grafique o boxplot para cada variável"
   ]
  },
  {
   "cell_type": "markdown",
   "metadata": {},
   "source": [
    "a) Para total_price:"
   ]
  },
  {
   "cell_type": "code",
   "execution_count": null,
   "metadata": {},
   "outputs": [],
   "source": [
    "plt.boxplot(df[\"total_price\"])\n",
    "plt.title(\"Boxplot de Preço Total\")\n",
    "plt.ylabel(\"total_price\")\n",
    "plt.show()"
   ]
  },
  {
   "cell_type": "markdown",
   "metadata": {},
   "source": [
    "# Eugênio"
   ]
  },
  {
   "cell_type": "code",
   "execution_count": 4,
   "metadata": {},
   "outputs": [
    {
     "data": {
      "text/plain": [
       "count    48620.000000\n",
       "mean        16.821474\n",
       "std          4.437398\n",
       "min          9.750000\n",
       "25%         12.750000\n",
       "50%         16.500000\n",
       "75%         20.500000\n",
       "max         83.000000\n",
       "Name: total_price, dtype: float64"
      ]
     },
     "execution_count": 4,
     "metadata": {},
     "output_type": "execute_result"
    }
   ],
   "source": [
    "c = continua\n",
    "df[c].describe()"
   ]
  },
  {
   "cell_type": "code",
   "execution_count": 5,
   "metadata": {},
   "outputs": [
    {
     "name": "stdout",
     "output_type": "stream",
     "text": [
      " bigode inferior: 1.12\n",
      " extremo inferior: -10.50\n",
      " bigode superior: 32.12\n",
      " extremo superior: 43.75\n",
      "(48620,)\n",
      "(578,)\n",
      "\n",
      "Outliers moderados:\n",
      "\n",
      "   index  total_price\n",
      "0  48601         41.5\n",
      "1    211         41.5\n",
      "2  47427         41.5\n",
      "3  47016         41.5\n",
      "4  46542         41.5\n",
      "\n",
      "\n",
      "(35,)\n",
      "\n",
      "Outliers extremos:\n",
      "\n",
      "   index  total_price\n",
      "0  35496        83.00\n",
      "1  18317        62.25\n",
      "2    183        62.25\n",
      "3  37638        62.25\n",
      "4  38819        62.25\n",
      "\n",
      "\n",
      "Total de outliers: 613\n"
     ]
    }
   ],
   "source": [
    "Q1 = df[c].quantile(0.25)\n",
    "Q3 = df[c].quantile(0.75)\n",
    "IQR = Q3 - Q1\n",
    "lim_sup = Q3 + 1.5 * IQR\n",
    "extrem_sup = Q3 + 3 * IQR\n",
    "lim_inf = Q1 - 1.5 * IQR\n",
    "extrem_inf = Q1 - 3 * IQR\n",
    "\n",
    "outliers_moderados = df[((df[c] > lim_sup) & (df[c] <= extrem_sup)) \n",
    "                        | ((df[c] < lim_inf) & (df[c] >= extrem_inf))]\n",
    "\n",
    "print(\" bigode inferior: %.2f\\n extremo inferior: %.2f\\n bigode superior: %.2f\\n extremo superior: %.2f\"%(lim_inf, extrem_inf,lim_sup,extrem_sup))\n",
    "\n",
    "print(df[c].shape)\n",
    "print(outliers_moderados[c].shape)\n",
    "print(\"\\nOutliers moderados:\\n\")\n",
    "print(outliers_moderados[c].sort_values(ascending=False).reset_index().head())\n",
    "print(\"\\n\")\n",
    "\n",
    "outliers_extremos = df[(df[c] > extrem_sup) | (df[c] < extrem_inf)]\n",
    "\n",
    "print(outliers_extremos[c].shape)\n",
    "print(\"\\nOutliers extremos:\\n\")\n",
    "print(outliers_extremos[c].sort_values(ascending=False).reset_index().head())\n",
    "print(\"\\n\\nTotal de outliers:\", outliers_extremos.shape[0] + outliers_moderados.shape[0])"
   ]
  },
  {
   "cell_type": "code",
   "execution_count": 6,
   "metadata": {},
   "outputs": [
    {
     "data": {
      "text/plain": [
       "count    48620.000000\n",
       "mean         1.019622\n",
       "std          0.143077\n",
       "min          1.000000\n",
       "25%          1.000000\n",
       "50%          1.000000\n",
       "75%          1.000000\n",
       "max          4.000000\n",
       "Name: quantity, dtype: float64"
      ]
     },
     "execution_count": 6,
     "metadata": {},
     "output_type": "execute_result"
    }
   ],
   "source": [
    "d = discreta\n",
    "df[d].describe()"
   ]
  },
  {
   "cell_type": "code",
   "execution_count": 7,
   "metadata": {},
   "outputs": [
    {
     "name": "stdout",
     "output_type": "stream",
     "text": [
      " bigode inferior: 1.00\n",
      " extremo inferior: 1.00\n",
      " bigode superior: 1.00\n",
      " extremo superior: 1.00\n",
      "(48620,)\n",
      "(0,)\n",
      "\n",
      "Outliers moderados:\n",
      "\n",
      "Empty DataFrame\n",
      "Columns: [index, quantity]\n",
      "Index: []\n",
      "\n",
      "\n",
      "(927,)\n",
      "\n",
      "Outliers extremos:\n",
      "\n",
      "   index  quantity\n",
      "0  18875       4.0\n",
      "1  11976       4.0\n",
      "2  35496       4.0\n",
      "3  16830       3.0\n",
      "4    341       3.0\n",
      "\n",
      "\n",
      "Total de outliers: 927\n"
     ]
    }
   ],
   "source": [
    "Q1 = df[d].quantile(0.25)\n",
    "Q3 = df[d].quantile(0.75)\n",
    "IQR = Q3 - Q1\n",
    "lim_sup = Q3 + 1.5 * IQR\n",
    "extrem_sup = Q3 + 3 * IQR\n",
    "lim_inf = Q1 - 1.5 * IQR\n",
    "extrem_inf = Q1 - 3 * IQR\n",
    "\n",
    "outliers_moderados = df[((df[d] > lim_sup) & (df[d] <= extrem_sup)) \n",
    "                        | ((df[d] < lim_inf) & (df[d] >= extrem_inf))]\n",
    "\n",
    "print(\" bigode inferior: %.2f\\n extremo inferior: %.2f\\n bigode superior: %.2f\\n extremo superior: %.2f\"%(lim_inf, extrem_inf,lim_sup,extrem_sup))\n",
    "\n",
    "print(df[d].shape)\n",
    "print(outliers_moderados[d].shape)\n",
    "print(\"\\nOutliers moderados:\\n\")\n",
    "print(outliers_moderados[d].sort_values(ascending=False).reset_index().head())\n",
    "print(\"\\n\")\n",
    "\n",
    "outliers_extremos = df[(df[d] > extrem_sup) | (df[d] < extrem_inf)]\n",
    "\n",
    "print(outliers_extremos[d].shape)\n",
    "print(\"\\nOutliers extremos:\\n\")\n",
    "print(outliers_extremos[d].sort_values(ascending=False).reset_index().head())\n",
    "print(\"\\n\\nTotal de outliers:\", outliers_extremos.shape[0] + outliers_moderados.shape[0])"
   ]
  },
  {
   "cell_type": "markdown",
   "metadata": {},
   "source": [
    "# Luiz"
   ]
  },
  {
   "cell_type": "markdown",
   "metadata": {},
   "source": [
    "[2.5 pts] Utilize o método Z-Score para a detecção de outliers, considerando um Z-Score de +/- 2.5. Compare os resultados obtidos com o resultado do item anterior. "
   ]
  },
  {
   "cell_type": "code",
   "execution_count": 8,
   "metadata": {},
   "outputs": [
    {
     "name": "stdout",
     "output_type": "stream",
     "text": [
      "Outliers in total_price using Z-Score method:\n",
      "       pizza_id  order_id   pizza_name_id  quantity  order_date order_time  \\\n",
      "48         49.0      17.0  mediterraneo_m       2.0    1/1/2015   13:53:00   \n",
      "183       184.0      78.0    spicy_ital_l       3.0    2/1/2015   12:28:14   \n",
      "211       212.0      91.0       bbq_ckn_l       2.0    2/1/2015   15:14:43   \n",
      "222       223.0      92.0     the_greek_m       2.0    2/1/2015   15:17:02   \n",
      "341       342.0     144.0       bbq_ckn_m       3.0    3/1/2015   13:44:28   \n",
      "...         ...       ...             ...       ...         ...        ...   \n",
      "48417   48418.0   21260.0    prsc_argla_m       2.0  30-12-2015   15:45:32   \n",
      "48454   48455.0   21281.0     pepperoni_l       2.0  31-12-2015   12:01:03   \n",
      "48466   48467.0   21288.0   classic_dlx_m       3.0  31-12-2015   13:04:18   \n",
      "48575   48576.0   21331.0       bbq_ckn_l       2.0  31-12-2015   19:05:04   \n",
      "48601   48602.0   21343.0    spicy_ital_l       2.0  31-12-2015   20:27:23   \n",
      "\n",
      "       unit_price  total_price pizza_size pizza_category  \\\n",
      "48          16.00        32.00          M         Veggie   \n",
      "183         20.75        62.25          L        Supreme   \n",
      "211         20.75        41.50          L        Chicken   \n",
      "222         16.00        32.00          M        Classic   \n",
      "341         16.75        50.25          M        Chicken   \n",
      "...           ...          ...        ...            ...   \n",
      "48417       16.50        33.00          M        Supreme   \n",
      "48454       15.25        30.50          L        Classic   \n",
      "48466       16.00        48.00          M        Classic   \n",
      "48575       20.75        41.50          L        Chicken   \n",
      "48601       20.75        41.50          L        Supreme   \n",
      "\n",
      "                                       pizza_ingredients  \\\n",
      "48     Spinach, Artichokes, Kalamata Olives, Sun-drie...   \n",
      "183    Capocollo, Tomatoes, Goat Cheese, Artichokes, ...   \n",
      "211    Barbecued Chicken, Red Peppers, Green Peppers,...   \n",
      "222    Kalamata Olives, Feta Cheese, Tomatoes, Garlic...   \n",
      "341    Barbecued Chicken, Red Peppers, Green Peppers,...   \n",
      "...                                                  ...   \n",
      "48417  Prosciutto di San Daniele, Arugula, Mozzarella...   \n",
      "48454                       Mozzarella Cheese, Pepperoni   \n",
      "48466  Pepperoni, Mushrooms, Red Onions, Red Peppers,...   \n",
      "48575  Barbecued Chicken, Red Peppers, Green Peppers,...   \n",
      "48601  Capocollo, Tomatoes, Goat Cheese, Artichokes, ...   \n",
      "\n",
      "                             pizza_name  \n",
      "48              The Mediterranean Pizza  \n",
      "183             The Spicy Italian Pizza  \n",
      "211          The Barbecue Chicken Pizza  \n",
      "222                     The Greek Pizza  \n",
      "341          The Barbecue Chicken Pizza  \n",
      "...                                 ...  \n",
      "48417  The Prosciutto and Arugula Pizza  \n",
      "48454               The Pepperoni Pizza  \n",
      "48466          The Classic Deluxe Pizza  \n",
      "48575        The Barbecue Chicken Pizza  \n",
      "48601           The Spicy Italian Pizza  \n",
      "\n",
      "[688 rows x 12 columns]\n",
      "\n",
      "Outliers in quantity using Z-Score method:\n",
      "       pizza_id  order_id   pizza_name_id  quantity  order_date order_time  \\\n",
      "48         49.0      17.0  mediterraneo_m       2.0    1/1/2015   13:53:00   \n",
      "183       184.0      78.0    spicy_ital_l       3.0    2/1/2015   12:28:14   \n",
      "211       212.0      91.0       bbq_ckn_l       2.0    2/1/2015   15:14:43   \n",
      "222       223.0      92.0     the_greek_m       2.0    2/1/2015   15:17:02   \n",
      "245       246.0     105.0      hawaiian_s       2.0    2/1/2015   18:12:01   \n",
      "...         ...       ...             ...       ...         ...        ...   \n",
      "48461   48462.0   21285.0    spin_pesto_s       2.0  31-12-2015   12:41:37   \n",
      "48466   48467.0   21288.0   classic_dlx_m       3.0  31-12-2015   13:04:18   \n",
      "48495   48496.0   21298.0      big_meat_s       2.0  31-12-2015   15:35:37   \n",
      "48575   48576.0   21331.0       bbq_ckn_l       2.0  31-12-2015   19:05:04   \n",
      "48601   48602.0   21343.0    spicy_ital_l       2.0  31-12-2015   20:27:23   \n",
      "\n",
      "       unit_price  total_price pizza_size pizza_category  \\\n",
      "48          16.00        32.00          M         Veggie   \n",
      "183         20.75        62.25          L        Supreme   \n",
      "211         20.75        41.50          L        Chicken   \n",
      "222         16.00        32.00          M        Classic   \n",
      "245         10.50        21.00          S        Classic   \n",
      "...           ...          ...        ...            ...   \n",
      "48461       12.50        25.00          S         Veggie   \n",
      "48466       16.00        48.00          M        Classic   \n",
      "48495       12.00        24.00          S        Classic   \n",
      "48575       20.75        41.50          L        Chicken   \n",
      "48601       20.75        41.50          L        Supreme   \n",
      "\n",
      "                                       pizza_ingredients  \\\n",
      "48     Spinach, Artichokes, Kalamata Olives, Sun-drie...   \n",
      "183    Capocollo, Tomatoes, Goat Cheese, Artichokes, ...   \n",
      "211    Barbecued Chicken, Red Peppers, Green Peppers,...   \n",
      "222    Kalamata Olives, Feta Cheese, Tomatoes, Garlic...   \n",
      "245             Sliced Ham, Pineapple, Mozzarella Cheese   \n",
      "...                                                  ...   \n",
      "48461  Spinach, Artichokes, Tomatoes, Sun-dried Tomat...   \n",
      "48466  Pepperoni, Mushrooms, Red Onions, Red Peppers,...   \n",
      "48495  Bacon, Pepperoni, Italian Sausage, Chorizo Sau...   \n",
      "48575  Barbecued Chicken, Red Peppers, Green Peppers,...   \n",
      "48601  Capocollo, Tomatoes, Goat Cheese, Artichokes, ...   \n",
      "\n",
      "                       pizza_name  \n",
      "48        The Mediterranean Pizza  \n",
      "183       The Spicy Italian Pizza  \n",
      "211    The Barbecue Chicken Pizza  \n",
      "222               The Greek Pizza  \n",
      "245            The Hawaiian Pizza  \n",
      "...                           ...  \n",
      "48461     The Spinach Pesto Pizza  \n",
      "48466    The Classic Deluxe Pizza  \n",
      "48495          The Big Meat Pizza  \n",
      "48575  The Barbecue Chicken Pizza  \n",
      "48601     The Spicy Italian Pizza  \n",
      "\n",
      "[927 rows x 12 columns]\n"
     ]
    }
   ],
   "source": [
    "import numpy as np\n",
    "\n",
    "def detect_outliers_zscore(df, column, threshold=2.5):\n",
    "    z_scores = np.abs((df[column] - df[column].mean()) / df[column].std())\n",
    "    return df[z_scores > threshold]\n",
    "\n",
    "# Detect outliers for continuous variable\n",
    "outliers_continuous = detect_outliers_zscore(df, continua)\n",
    "print(f\"Outliers in {continua} using Z-Score method:\")\n",
    "print(outliers_continuous)\n",
    "\n",
    "# Detect outliers for discrete variable\n",
    "outliers_discrete = detect_outliers_zscore(df, discreta)\n",
    "print(f\"\\nOutliers in {discreta} using Z-Score method:\")\n",
    "print(outliers_discrete)\n"
   ]
  }
 ],
 "metadata": {
  "kernelspec": {
   "display_name": "venv",
   "language": "python",
   "name": "python3"
  },
  "language_info": {
   "codemirror_mode": {
    "name": "ipython",
    "version": 3
   },
   "file_extension": ".py",
   "mimetype": "text/x-python",
   "name": "python",
   "nbconvert_exporter": "python",
   "pygments_lexer": "ipython3",
   "version": "3.11.7"
  }
 },
 "nbformat": 4,
 "nbformat_minor": 2
}
